{
  "nbformat": 4,
  "nbformat_minor": 0,
  "metadata": {
    "colab": {
      "provenance": []
    },
    "kernelspec": {
      "name": "python3",
      "display_name": "Python 3"
    },
    "language_info": {
      "name": "python"
    }
  },
  "cells": [
    {
      "cell_type": "code",
      "source": [
        "!pip install deep-translator"
      ],
      "metadata": {
        "colab": {
          "base_uri": "https://localhost:8080/"
        },
        "id": "gFMm4QXZEbsU",
        "outputId": "c6f7fcfc-8ce6-4962-f3fe-704255a3f933"
      },
      "execution_count": null,
      "outputs": [
        {
          "output_type": "stream",
          "name": "stdout",
          "text": [
            "Collecting deep-translator\n",
            "  Downloading deep_translator-1.11.4-py3-none-any.whl.metadata (30 kB)\n",
            "Requirement already satisfied: beautifulsoup4<5.0.0,>=4.9.1 in /usr/local/lib/python3.10/dist-packages (from deep-translator) (4.12.3)\n",
            "Requirement already satisfied: requests<3.0.0,>=2.23.0 in /usr/local/lib/python3.10/dist-packages (from deep-translator) (2.32.3)\n",
            "Requirement already satisfied: soupsieve>1.2 in /usr/local/lib/python3.10/dist-packages (from beautifulsoup4<5.0.0,>=4.9.1->deep-translator) (2.6)\n",
            "Requirement already satisfied: charset-normalizer<4,>=2 in /usr/local/lib/python3.10/dist-packages (from requests<3.0.0,>=2.23.0->deep-translator) (3.4.0)\n",
            "Requirement already satisfied: idna<4,>=2.5 in /usr/local/lib/python3.10/dist-packages (from requests<3.0.0,>=2.23.0->deep-translator) (3.10)\n",
            "Requirement already satisfied: urllib3<3,>=1.21.1 in /usr/local/lib/python3.10/dist-packages (from requests<3.0.0,>=2.23.0->deep-translator) (2.2.3)\n",
            "Requirement already satisfied: certifi>=2017.4.17 in /usr/local/lib/python3.10/dist-packages (from requests<3.0.0,>=2.23.0->deep-translator) (2024.8.30)\n",
            "Downloading deep_translator-1.11.4-py3-none-any.whl (42 kB)\n",
            "\u001b[2K   \u001b[90m━━━━━━━━━━━━━━━━━━━━━━━━━━━━━━━━━━━━━━━━\u001b[0m \u001b[32m42.3/42.3 kB\u001b[0m \u001b[31m1.2 MB/s\u001b[0m eta \u001b[36m0:00:00\u001b[0m\n",
            "\u001b[?25hInstalling collected packages: deep-translator\n",
            "Successfully installed deep-translator-1.11.4\n"
          ]
        }
      ]
    },
    {
      "cell_type": "code",
      "source": [
        "# Importar a biblioteca necessária\n",
        "from deep_translator import GoogleTranslator\n",
        "\n",
        "# Definir as perguntas originais em português\n",
        "perguntas_pt = [\n",
        "    \"Quantos pacientes foram internados no último mês?\",\n",
        "    \"Quais pacientes foram internados mais de uma vez no último ano?\",\n",
        "    \"Quantas internações tiveram complicações durante o tratamento?\",\n",
        "    \"Quais internações resultaram em óbito no último trimestre?\",\n",
        "    \"Qual é o índice de ocupação de leitos no hospital 'São José'?\",\n",
        "    \"Quais são os CIDs mais comuns entre os pacientes internados no departamento de Cardiologia?\",\n",
        "    \"Quantos pacientes com menos de 12 anos foram internados no departamento de Pediatria?\",\n",
        "    \"Qual é a média de dias de internação por paciente?\",\n",
        "    \"Quais são os principais motivos de internação no hospital Luz?\",\n",
        "    \"Quais pacientes tiveram alta por melhora após um tratamento com antibióticos?\",\n",
        "    \"Qual é a taxa de readmissão hospitalar dentro de 30 dias após a alta?\",\n",
        "    \"Quais foram os 5 principais CIDs das internações no último semestre?\",\n",
        "    \"Quais são os 3 medicamentos mais prescritos para pacientes com insuficiência cardíaca?\",\n",
        "    \"Quantos exames de imagem foram realizados nos últimos 6 meses?\",\n",
        "    \"Quais exames resultaram em uma conduta a ser avaliada?\",\n",
        "    \"Qual é o número de pacientes admitidos por emergência e por consultas agendadas?\",\n",
        "    \"Quem são os 10 pacientes com mais internações no último ano?\",\n",
        "    \"Quais médicos realizaram mais tratamentos este mês?\",\n",
        "    \"Quais foram as internações ocorridas no hospital 'Universitário de Brasília'?\",\n",
        "    \"Quantos pacientes receberam alta com complicações durante a internação?\",\n",
        "    \"Quantos leitos pediátricos estão ocupados atualmente?\",\n",
        "    \"Quais pacientes têm histórico de hipertensão e foram internados com complicações?\",\n",
        "    \"Quais tratamentos foram aplicados aos pacientes com diabetes mellitus?\",\n",
        "    \"Quais hospitais tiveram mais internações no departamento de Emergência?\",\n",
        "    \"Quais internações resultaram em transferências para outro hospital no último trimestre?\"\n",
        "]\n",
        "\n",
        "\n",
        "# Inicializar o tradutor Google\n",
        "tradutor = GoogleTranslator(source='pt', target='en')\n",
        "\n",
        "# Traduzir todas as perguntas usando o tradutor\n",
        "perguntas_traduzidas = [tradutor.translate(pergunta) for pergunta in perguntas_pt]\n",
        "\n",
        "# Exibir as perguntas traduzidas\n",
        "for original, traduzida in zip(perguntas_pt, perguntas_traduzidas):\n",
        "    print(f\"Original: {original}\\nTraduzida: {traduzida}\\n\")\n"
      ],
      "metadata": {
        "id": "uogopzjS0LZQ",
        "colab": {
          "base_uri": "https://localhost:8080/"
        },
        "outputId": "66657189-9dcb-460a-9e48-73b8efa8406c"
      },
      "execution_count": null,
      "outputs": [
        {
          "output_type": "stream",
          "name": "stdout",
          "text": [
            "Original: Quantos pacientes foram internados no último mês?\n",
            "Traduzida: How many patients were admitted last month?\n",
            "\n",
            "Original: Quais pacientes foram internados mais de uma vez no último ano?\n",
            "Traduzida: Which patients were hospitalized more than once in the last year?\n",
            "\n",
            "Original: Quantas internações tiveram complicações durante o tratamento?\n",
            "Traduzida: How many hospitalizations had complications during treatment?\n",
            "\n",
            "Original: Quais internações resultaram em óbito no último trimestre?\n",
            "Traduzida: Which hospitalizations resulted in death in the last trimester?\n",
            "\n",
            "Original: Qual é o índice de ocupação de leitos no hospital 'São José'?\n",
            "Traduzida: What is the bed occupancy rate at the 'São José' hospital?\n",
            "\n",
            "Original: Quais são os CIDs mais comuns entre os pacientes internados no departamento de Cardiologia?\n",
            "Traduzida: What are the most common ICDs among patients admitted to the Cardiology department?\n",
            "\n",
            "Original: Quantos pacientes com menos de 12 anos foram internados no departamento de Pediatria?\n",
            "Traduzida: How many patients under 12 years of age were admitted to the Pediatrics department?\n",
            "\n",
            "Original: Qual é a média de dias de internação por paciente?\n",
            "Traduzida: What is the average number of days of hospitalization per patient?\n",
            "\n",
            "Original: Quais são os principais motivos de internação no hospital Luz?\n",
            "Traduzida: What are the main reasons for admission to Hospital Luz?\n",
            "\n",
            "Original: Quais pacientes tiveram alta por melhora após um tratamento com antibióticos?\n",
            "Traduzida: Which patients were discharged due to improvement after antibiotic treatment?\n",
            "\n",
            "Original: Qual é a taxa de readmissão hospitalar dentro de 30 dias após a alta?\n",
            "Traduzida: What is the hospital readmission rate within 30 days of discharge?\n",
            "\n",
            "Original: Quais foram os 5 principais CIDs das internações no último semestre?\n",
            "Traduzida: What were the top 5 ICDs for hospitalizations in the last six months?\n",
            "\n",
            "Original: Quais são os 3 medicamentos mais prescritos para pacientes com insuficiência cardíaca?\n",
            "Traduzida: What are the 3 most prescribed medications for patients with heart failure?\n",
            "\n",
            "Original: Quantos exames de imagem foram realizados nos últimos 6 meses?\n",
            "Traduzida: How many imaging tests have been performed in the last 6 months?\n",
            "\n",
            "Original: Quais exames resultaram em uma conduta a ser avaliada?\n",
            "Traduzida: Which tests resulted in a conduct to be evaluated?\n",
            "\n",
            "Original: Qual é o número de pacientes admitidos por emergência e por consultas agendadas?\n",
            "Traduzida: What is the number of patients admitted due to emergency and scheduled appointments?\n",
            "\n",
            "Original: Quem são os 10 pacientes com mais internações no último ano?\n",
            "Traduzida: Who are the 10 patients with the most hospitalizations in the last year?\n",
            "\n",
            "Original: Quais médicos realizaram mais tratamentos este mês?\n",
            "Traduzida: Which doctors performed the most treatments this month?\n",
            "\n",
            "Original: Quais foram as internações ocorridas no hospital 'Universitário de Brasília'?\n",
            "Traduzida: What hospitalizations occurred at the 'Universitário de Brasília' hospital?\n",
            "\n",
            "Original: Quantos pacientes receberam alta com complicações durante a internação?\n",
            "Traduzida: How many patients were discharged with complications during their hospital stay?\n",
            "\n",
            "Original: Quantos leitos pediátricos estão ocupados atualmente?\n",
            "Traduzida: How many pediatric beds are currently occupied?\n",
            "\n",
            "Original: Quais pacientes têm histórico de hipertensão e foram internados com complicações?\n",
            "Traduzida: Which patients have a history of hypertension and were admitted with complications?\n",
            "\n",
            "Original: Quais tratamentos foram aplicados aos pacientes com diabetes mellitus?\n",
            "Traduzida: What treatments were applied to patients with diabetes mellitus?\n",
            "\n",
            "Original: Quais hospitais tiveram mais internações no departamento de Emergência?\n",
            "Traduzida: Which hospitals had the most Emergency Department admissions?\n",
            "\n",
            "Original: Quais internações resultaram em transferências para outro hospital no último trimestre?\n",
            "Traduzida: Which admissions resulted in transfers to another hospital in the last quarter?\n",
            "\n"
          ]
        }
      ]
    }
  ]
}